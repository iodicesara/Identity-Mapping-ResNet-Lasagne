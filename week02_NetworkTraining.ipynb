{
  "nbformat": 4,
  "nbformat_minor": 0,
  "metadata": {
    "colab": {
      "name": "week02_NetworkTraining.ipynb",
      "version": "0.3.2",
      "provenance": [],
      "collapsed_sections": [],
      "toc_visible": true,
      "include_colab_link": true
    },
    "kernelspec": {
      "name": "python2",
      "display_name": "Python 2"
    },
    "accelerator": "GPU"
  },
  "cells": [
    {
      "cell_type": "markdown",
      "metadata": {
        "id": "view-in-github",
        "colab_type": "text"
      },
      "source": [
        "<a href=\"https://colab.research.google.com/github/iodicesara/Identity-Mapping-ResNet-Lasagne/blob/master/week02_NetworkTraining.ipynb\" target=\"_parent\"><img src=\"https://colab.research.google.com/assets/colab-badge.svg\" alt=\"Open In Colab\"/></a>"
      ]
    },
    {
      "metadata": {
        "id": "91E7ozNTWvS9",
        "colab_type": "text"
      },
      "cell_type": "markdown",
      "source": [
        "# Network Training\n",
        "\n",
        "In this tutorial we will introduce different topics related to the traning phase of deep neural networks,  including data augmentations, optimization/regularization techniques, weight initializations, loss function, hyper parameters tuning and final, some metrics to evaluate performances of the model."
      ]
    },
    {
      "metadata": {
        "id": "hVa-ZTYsXhNT",
        "colab_type": "text"
      },
      "cell_type": "markdown",
      "source": [
        "## Preliminary\n",
        "\n",
        "We will load MNIST as in last weeks tutorial, and we will use it to classify digits and introduce the topics covered in this tutorial."
      ]
    },
    {
      "metadata": {
        "id": "2aGBJBVmXd8b",
        "colab_type": "code",
        "outputId": "bd1b7006-bac8-436e-95ea-a579de310aa2",
        "colab": {
          "base_uri": "https://localhost:8080/",
          "height": 306
        }
      },
      "cell_type": "code",
      "source": [
        "import numpy as np\n",
        "np.random.seed(123)  # for reproducibility\n",
        "from keras.models import Sequential\n",
        "from keras.layers import Dense, Dropout, Activation\n",
        "from keras.utils import np_utils\n",
        "from keras.utils import to_categorical\n",
        "\n",
        "import matplotlib.pyplot as plt\n",
        "from keras.datasets import mnist\n",
        "\n",
        "batch_size=128\n",
        "num_classes=10\n",
        "epoch=20\n",
        "\n",
        "# the data, shuffled and split between train and test sets\n",
        "(x_train, y_train), (x_test, y_test) = mnist.load_data()\n",
        "print(y_train.shape[0],'train samples')\n",
        "print(x_train.shape[0],'train samples')\n",
        "\n",
        "print(x_test.shape[0],'test samples')\n",
        "print(x_test.shape[0],'test samples')\n",
        "\n",
        "x_train = x_train.reshape(x_train.shape[0], x_train.shape[1] * x_train.shape[2])\n",
        "x_test = x_test.reshape(x_test.shape[0], x_test.shape[1] * x_test.shape[2])\n",
        "\n",
        "x_train= x_train.astype('float32')\n",
        "x_test= x_test.astype('float32')\n",
        "\n",
        "x_train /= 255\n",
        "x_test /= 255\n",
        "\n",
        "y_train=to_categorical(y_train,num_classes)\n",
        "y_test=to_categorical(y_test,num_classes)\n",
        "\n",
        "\n",
        "\n",
        "\n",
        "# con\n",
        "\n",
        "# Load simple model\n",
        "model = Sequential()\n",
        "model.add(Dense(512, activation='relu', input_shape=(784,)))\n",
        "model.add(Dense(512, activation='relu'))\n",
        "model.add(Dense(10, activation='softmax'))\n",
        "\n",
        "\n",
        "model.summary()\n"
      ],
      "execution_count": 38,
      "outputs": [
        {
          "output_type": "stream",
          "text": [
            "(60000, 'train samples')\n",
            "(60000, 'train samples')\n",
            "(10000, 'test samples')\n",
            "(10000, 'test samples')\n",
            "_________________________________________________________________\n",
            "Layer (type)                 Output Shape              Param #   \n",
            "=================================================================\n",
            "dense_33 (Dense)             (None, 512)               401920    \n",
            "_________________________________________________________________\n",
            "dense_34 (Dense)             (None, 512)               262656    \n",
            "_________________________________________________________________\n",
            "dense_35 (Dense)             (None, 10)                5130      \n",
            "=================================================================\n",
            "Total params: 669,706\n",
            "Trainable params: 669,706\n",
            "Non-trainable params: 0\n",
            "_________________________________________________________________\n"
          ],
          "name": "stdout"
        }
      ]
    },
    {
      "metadata": {
        "id": "mRx68ymWLCT7",
        "colab_type": "text"
      },
      "cell_type": "markdown",
      "source": [
        "## Optimizers\n",
        "\n",
        "\n",
        "The choice of the optimizer can affect both the final performance and the speed of convergence. While some methods are more prone to get stuck in local minima,  others converge faster.  A nice visualization of this is the following animation:\n",
        "\n",
        "![](http://ruder.io/content/images/2016/09/saddle_point_evaluation_optimizers.gif)\n",
        "\n",
        "If you want to know more technical details of different optimizers, plese refer to [Sebastian Ruder's blog](http://ruder.io/optimizing-gradient-descent/).\n",
        "\n",
        "Here we will introduce how to use different optimizers in Keras. \n",
        "\n",
        "As we have previusly seen, the compile method requires two arguments in string format: a loss function and a optimizer. For example, we define as parameters adam and categorical crossentropy, respectively. \n",
        "\n",
        "As a rule of thumb, Adam is usually easier to tune due to the adaptive learning rate, whereas SGD with momentum has been shown to reach better results when tuned correctly.\n",
        "\n",
        "As exercise, try different optimizers - to know how to specify it please consult the official documentation [Optimizers in Keras](https://keras.io/optimizers/) - and finally, report below in the table the training and validation losses you achieve.\n",
        "\n",
        "\n",
        "\n"
      ]
    },
    {
      "metadata": {
        "id": "iwvy89V2hd7i",
        "colab_type": "code",
        "colab": {
          "base_uri": "https://localhost:8080/",
          "height": 166
        },
        "outputId": "083f92e0-eb41-44f1-9ada-d83288164b67"
      },
      "cell_type": "code",
      "source": [
        "from IPython.display import HTML, display\n",
        "import tabulate\n",
        "table = [[\"Optimizer\",\"loss\",\"val_loss\",\"hyper-parameters\"],\n",
        "         [\"Adam\",\"-\",\"-\",\"-\"],\n",
        "         [\"Sgd\",\"-\",\"-\",\"lr=0.01, momentum=0.0, decay=0.0\"],\n",
        "         [\"RMSprop\",\"-\" ,\"-\",\"lr=0.001, rho=0.9, epsilon=None, decay=0.0\"],\n",
        "         [\"Adagrad\",\"-\",\"-\",\"-\"],\n",
        "         [\"Adadelta\",\"-\",\"-\",\"-\"],\n",
        "         [\"Adam\",\"-\",\"-\",\"-\"]]\n",
        "display(HTML(tabulate.tabulate(table, tablefmt='html')))"
      ],
      "execution_count": 59,
      "outputs": [
        {
          "output_type": "display_data",
          "data": {
            "text/plain": [
              "<IPython.core.display.HTML object>"
            ],
            "text/html": [
              "<table>\n",
              "<tbody>\n",
              "<tr><td>Optimizer</td><td>loss</td><td>val_loss</td><td>hyper-parameters                          </td></tr>\n",
              "<tr><td>Adam     </td><td>-   </td><td>-       </td><td>-                                         </td></tr>\n",
              "<tr><td>Sgd      </td><td>-   </td><td>-       </td><td>lr=0.01, momentum=0.0, decay=0.0          </td></tr>\n",
              "<tr><td>RMSprop  </td><td>-   </td><td>-       </td><td>lr=0.001, rho=0.9, epsilon=None, decay=0.0</td></tr>\n",
              "<tr><td>Adagrad  </td><td>-   </td><td>-       </td><td>-                                         </td></tr>\n",
              "<tr><td>Adadelta </td><td>-   </td><td>-       </td><td>-                                         </td></tr>\n",
              "<tr><td>Adam     </td><td>-   </td><td>-       </td><td>-                                         </td></tr>\n",
              "</tbody>\n",
              "</table>"
            ]
          },
          "metadata": {
            "tags": []
          }
        }
      ]
    },
    {
      "metadata": {
        "id": "9od5lUWMWu5X",
        "colab_type": "code",
        "colab": {
          "base_uri": "https://localhost:8080/",
          "height": 3451
        },
        "outputId": "2621df0f-2b17-4879-f33a-8581833794ac"
      },
      "cell_type": "code",
      "source": [
        "model.compile(optimizer='adam',loss='categorical_crossentropy')\n",
        "model.fit(x_train,y_train,batch_size=100,epochs=100,verbose=1,validation_data=(x_test,y_test))"
      ],
      "execution_count": 39,
      "outputs": [
        {
          "output_type": "stream",
          "text": [
            "Train on 60000 samples, validate on 10000 samples\n",
            "Epoch 1/100\n",
            "60000/60000 [==============================] - 6s 100us/step - loss: 0.2101 - val_loss: 0.1029\n",
            "Epoch 2/100\n",
            "60000/60000 [==============================] - 4s 60us/step - loss: 0.0783 - val_loss: 0.0889\n",
            "Epoch 3/100\n",
            "60000/60000 [==============================] - 4s 60us/step - loss: 0.0506 - val_loss: 0.0628\n",
            "Epoch 4/100\n",
            "60000/60000 [==============================] - 4s 60us/step - loss: 0.0342 - val_loss: 0.0688\n",
            "Epoch 5/100\n",
            "60000/60000 [==============================] - 4s 60us/step - loss: 0.0297 - val_loss: 0.0710\n",
            "Epoch 6/100\n",
            "60000/60000 [==============================] - 4s 60us/step - loss: 0.0217 - val_loss: 0.0782\n",
            "Epoch 7/100\n",
            "60000/60000 [==============================] - 4s 60us/step - loss: 0.0192 - val_loss: 0.0665\n",
            "Epoch 8/100\n",
            "60000/60000 [==============================] - 4s 60us/step - loss: 0.0166 - val_loss: 0.0814\n",
            "Epoch 9/100\n",
            "60000/60000 [==============================] - 4s 60us/step - loss: 0.0172 - val_loss: 0.0943\n",
            "Epoch 10/100\n",
            "60000/60000 [==============================] - 4s 62us/step - loss: 0.0147 - val_loss: 0.0850\n",
            "Epoch 11/100\n",
            "60000/60000 [==============================] - 4s 59us/step - loss: 0.0123 - val_loss: 0.0869\n",
            "Epoch 12/100\n",
            "60000/60000 [==============================] - 4s 59us/step - loss: 0.0101 - val_loss: 0.0893\n",
            "Epoch 13/100\n",
            "60000/60000 [==============================] - 4s 59us/step - loss: 0.0140 - val_loss: 0.0781\n",
            "Epoch 14/100\n",
            "60000/60000 [==============================] - 4s 59us/step - loss: 0.0113 - val_loss: 0.0765\n",
            "Epoch 15/100\n",
            "60000/60000 [==============================] - 4s 59us/step - loss: 0.0085 - val_loss: 0.0816\n",
            "Epoch 16/100\n",
            "60000/60000 [==============================] - 4s 59us/step - loss: 0.0077 - val_loss: 0.1079\n",
            "Epoch 17/100\n",
            "60000/60000 [==============================] - 4s 60us/step - loss: 0.0122 - val_loss: 0.1105\n",
            "Epoch 18/100\n",
            "60000/60000 [==============================] - 4s 61us/step - loss: 0.0088 - val_loss: 0.0919\n",
            "Epoch 19/100\n",
            "60000/60000 [==============================] - 4s 60us/step - loss: 0.0065 - val_loss: 0.0970\n",
            "Epoch 20/100\n",
            "60000/60000 [==============================] - 4s 61us/step - loss: 0.0075 - val_loss: 0.1035\n",
            "Epoch 21/100\n",
            "60000/60000 [==============================] - 4s 61us/step - loss: 0.0101 - val_loss: 0.1042\n",
            "Epoch 22/100\n",
            "60000/60000 [==============================] - 4s 60us/step - loss: 0.0067 - val_loss: 0.0997\n",
            "Epoch 23/100\n",
            "60000/60000 [==============================] - 4s 60us/step - loss: 0.0066 - val_loss: 0.1006\n",
            "Epoch 24/100\n",
            "60000/60000 [==============================] - 4s 60us/step - loss: 0.0084 - val_loss: 0.0835\n",
            "Epoch 25/100\n",
            "60000/60000 [==============================] - 4s 61us/step - loss: 0.0031 - val_loss: 0.0928\n",
            "Epoch 26/100\n",
            "60000/60000 [==============================] - 4s 59us/step - loss: 0.0112 - val_loss: 0.1326\n",
            "Epoch 27/100\n",
            "60000/60000 [==============================] - 4s 60us/step - loss: 0.0071 - val_loss: 0.1083\n",
            "Epoch 28/100\n",
            "60000/60000 [==============================] - 4s 59us/step - loss: 0.0051 - val_loss: 0.1011\n",
            "Epoch 29/100\n",
            "60000/60000 [==============================] - 4s 59us/step - loss: 0.0047 - val_loss: 0.1002\n",
            "Epoch 30/100\n",
            "60000/60000 [==============================] - 4s 59us/step - loss: 0.0068 - val_loss: 0.1021\n",
            "Epoch 31/100\n",
            "60000/60000 [==============================] - 4s 59us/step - loss: 0.0114 - val_loss: 0.0969\n",
            "Epoch 32/100\n",
            "60000/60000 [==============================] - 4s 60us/step - loss: 0.0040 - val_loss: 0.1154\n",
            "Epoch 33/100\n",
            "60000/60000 [==============================] - 4s 60us/step - loss: 0.0054 - val_loss: 0.1082\n",
            "Epoch 34/100\n",
            "60000/60000 [==============================] - 4s 60us/step - loss: 0.0061 - val_loss: 0.0986\n",
            "Epoch 35/100\n",
            "60000/60000 [==============================] - 4s 60us/step - loss: 0.0061 - val_loss: 0.1090\n",
            "Epoch 36/100\n",
            "60000/60000 [==============================] - 4s 60us/step - loss: 0.0051 - val_loss: 0.1115\n",
            "Epoch 37/100\n",
            "60000/60000 [==============================] - 4s 60us/step - loss: 0.0030 - val_loss: 0.1227\n",
            "Epoch 38/100\n",
            "60000/60000 [==============================] - 4s 61us/step - loss: 0.0088 - val_loss: 0.1375\n",
            "Epoch 39/100\n",
            "60000/60000 [==============================] - 4s 61us/step - loss: 0.0066 - val_loss: 0.1255\n",
            "Epoch 40/100\n",
            "60000/60000 [==============================] - 4s 61us/step - loss: 0.0034 - val_loss: 0.1172\n",
            "Epoch 41/100\n",
            "60000/60000 [==============================] - 4s 61us/step - loss: 0.0063 - val_loss: 0.1207\n",
            "Epoch 42/100\n",
            "60000/60000 [==============================] - 4s 60us/step - loss: 0.0061 - val_loss: 0.1319\n",
            "Epoch 43/100\n",
            "60000/60000 [==============================] - 4s 59us/step - loss: 0.0060 - val_loss: 0.1108\n",
            "Epoch 44/100\n",
            "60000/60000 [==============================] - 4s 60us/step - loss: 0.0044 - val_loss: 0.1243\n",
            "Epoch 45/100\n",
            "60000/60000 [==============================] - 4s 59us/step - loss: 0.0060 - val_loss: 0.1144\n",
            "Epoch 46/100\n",
            "60000/60000 [==============================] - 3s 58us/step - loss: 0.0040 - val_loss: 0.1142\n",
            "Epoch 47/100\n",
            "60000/60000 [==============================] - 4s 59us/step - loss: 0.0029 - val_loss: 0.1134\n",
            "Epoch 48/100\n",
            "60000/60000 [==============================] - 4s 59us/step - loss: 0.0076 - val_loss: 0.1334\n",
            "Epoch 49/100\n",
            "60000/60000 [==============================] - 4s 60us/step - loss: 0.0073 - val_loss: 0.1000\n",
            "Epoch 50/100\n",
            "60000/60000 [==============================] - 4s 60us/step - loss: 0.0051 - val_loss: 0.1138\n",
            "Epoch 51/100\n",
            "60000/60000 [==============================] - 4s 60us/step - loss: 0.0028 - val_loss: 0.1232\n",
            "Epoch 52/100\n",
            "60000/60000 [==============================] - 4s 60us/step - loss: 0.0042 - val_loss: 0.1253\n",
            "Epoch 53/100\n",
            "60000/60000 [==============================] - 4s 60us/step - loss: 0.0026 - val_loss: 0.1329\n",
            "Epoch 54/100\n",
            "60000/60000 [==============================] - 4s 60us/step - loss: 0.0061 - val_loss: 0.1351\n",
            "Epoch 55/100\n",
            "60000/60000 [==============================] - 4s 60us/step - loss: 0.0066 - val_loss: 0.1137\n",
            "Epoch 56/100\n",
            "60000/60000 [==============================] - 4s 60us/step - loss: 0.0049 - val_loss: 0.1242\n",
            "Epoch 57/100\n",
            "60000/60000 [==============================] - 4s 60us/step - loss: 0.0033 - val_loss: 0.1467\n",
            "Epoch 58/100\n",
            "60000/60000 [==============================] - 4s 60us/step - loss: 0.0039 - val_loss: 0.1433\n",
            "Epoch 59/100\n",
            "60000/60000 [==============================] - 4s 61us/step - loss: 0.0045 - val_loss: 0.1301\n",
            "Epoch 60/100\n",
            "60000/60000 [==============================] - 4s 60us/step - loss: 0.0067 - val_loss: 0.1636\n",
            "Epoch 61/100\n",
            "60000/60000 [==============================] - 4s 59us/step - loss: 0.0084 - val_loss: 0.1415\n",
            "Epoch 62/100\n",
            "60000/60000 [==============================] - 4s 58us/step - loss: 0.0058 - val_loss: 0.1389\n",
            "Epoch 63/100\n",
            "60000/60000 [==============================] - 4s 58us/step - loss: 0.0034 - val_loss: 0.1232\n",
            "Epoch 64/100\n",
            "60000/60000 [==============================] - 4s 59us/step - loss: 0.0013 - val_loss: 0.1292\n",
            "Epoch 65/100\n",
            "60000/60000 [==============================] - 4s 59us/step - loss: 0.0053 - val_loss: 0.1389\n",
            "Epoch 66/100\n",
            "60000/60000 [==============================] - 4s 60us/step - loss: 0.0063 - val_loss: 0.1432\n",
            "Epoch 67/100\n",
            "60000/60000 [==============================] - 4s 60us/step - loss: 0.0068 - val_loss: 0.1484\n",
            "Epoch 68/100\n",
            "60000/60000 [==============================] - 4s 60us/step - loss: 0.0040 - val_loss: 0.1467\n",
            "Epoch 69/100\n",
            "60000/60000 [==============================] - 4s 60us/step - loss: 0.0036 - val_loss: 0.1423\n",
            "Epoch 70/100\n",
            "60000/60000 [==============================] - 4s 60us/step - loss: 0.0055 - val_loss: 0.1466\n",
            "Epoch 71/100\n",
            "60000/60000 [==============================] - 4s 60us/step - loss: 0.0063 - val_loss: 0.1518\n",
            "Epoch 72/100\n",
            "60000/60000 [==============================] - 4s 60us/step - loss: 0.0061 - val_loss: 0.1527\n",
            "Epoch 73/100\n",
            "60000/60000 [==============================] - 4s 60us/step - loss: 0.0020 - val_loss: 0.1258\n",
            "Epoch 74/100\n",
            "60000/60000 [==============================] - 4s 60us/step - loss: 0.0028 - val_loss: 0.1320\n",
            "Epoch 75/100\n",
            "60000/60000 [==============================] - 4s 60us/step - loss: 0.0026 - val_loss: 0.1436\n",
            "Epoch 76/100\n",
            "60000/60000 [==============================] - 4s 60us/step - loss: 0.0061 - val_loss: 0.1525\n",
            "Epoch 77/100\n",
            "60000/60000 [==============================] - 4s 59us/step - loss: 0.0058 - val_loss: 0.1362\n",
            "Epoch 78/100\n",
            "60000/60000 [==============================] - 4s 59us/step - loss: 0.0032 - val_loss: 0.1401\n",
            "Epoch 79/100\n",
            "60000/60000 [==============================] - 4s 59us/step - loss: 0.0014 - val_loss: 0.1376\n",
            "Epoch 80/100\n",
            "60000/60000 [==============================] - 4s 58us/step - loss: 0.0061 - val_loss: 0.1567\n",
            "Epoch 81/100\n",
            "60000/60000 [==============================] - 4s 59us/step - loss: 0.0077 - val_loss: 0.1576\n",
            "Epoch 82/100\n",
            "60000/60000 [==============================] - 4s 60us/step - loss: 0.0026 - val_loss: 0.1274\n",
            "Epoch 83/100\n",
            "60000/60000 [==============================] - 4s 60us/step - loss: 0.0043 - val_loss: 0.1314\n",
            "Epoch 84/100\n",
            "60000/60000 [==============================] - 4s 61us/step - loss: 0.0061 - val_loss: 0.1467\n",
            "Epoch 85/100\n",
            "60000/60000 [==============================] - 4s 61us/step - loss: 0.0032 - val_loss: 0.1371\n",
            "Epoch 86/100\n",
            "60000/60000 [==============================] - 4s 60us/step - loss: 0.0062 - val_loss: 0.1578\n",
            "Epoch 87/100\n",
            "60000/60000 [==============================] - 4s 60us/step - loss: 0.0054 - val_loss: 0.1505\n",
            "Epoch 88/100\n",
            "60000/60000 [==============================] - 4s 60us/step - loss: 0.0040 - val_loss: 0.1385\n",
            "Epoch 89/100\n",
            "60000/60000 [==============================] - 4s 60us/step - loss: 0.0043 - val_loss: 0.1401\n",
            "Epoch 90/100\n",
            "60000/60000 [==============================] - 4s 60us/step - loss: 0.0063 - val_loss: 0.1640\n",
            "Epoch 91/100\n",
            "60000/60000 [==============================] - 4s 60us/step - loss: 0.0050 - val_loss: 0.1525\n",
            "Epoch 92/100\n",
            "60000/60000 [==============================] - 4s 60us/step - loss: 0.0043 - val_loss: 0.1580\n",
            "Epoch 93/100\n",
            "60000/60000 [==============================] - 4s 60us/step - loss: 0.0022 - val_loss: 0.1507\n",
            "Epoch 94/100\n",
            "60000/60000 [==============================] - 4s 60us/step - loss: 0.0052 - val_loss: 0.1421\n",
            "Epoch 95/100\n",
            "60000/60000 [==============================] - 4s 63us/step - loss: 0.0034 - val_loss: 0.1667\n",
            "Epoch 96/100\n",
            "60000/60000 [==============================] - 4s 60us/step - loss: 0.0031 - val_loss: 0.1659\n",
            "Epoch 97/100\n",
            "60000/60000 [==============================] - 4s 59us/step - loss: 0.0015 - val_loss: 0.1553\n",
            "Epoch 98/100\n",
            "60000/60000 [==============================] - 4s 59us/step - loss: 0.0021 - val_loss: 0.1600\n",
            "Epoch 99/100\n",
            "60000/60000 [==============================] - 4s 59us/step - loss: 0.0041 - val_loss: 0.1850\n",
            "Epoch 100/100\n",
            "60000/60000 [==============================] - 4s 59us/step - loss: 0.0112 - val_loss: 0.1780\n"
          ],
          "name": "stdout"
        },
        {
          "output_type": "execute_result",
          "data": {
            "text/plain": [
              "<keras.callbacks.History at 0x7f6d3e34bcd0>"
            ]
          },
          "metadata": {
            "tags": []
          },
          "execution_count": 39
        }
      ]
    },
    {
      "metadata": {
        "id": "8zTr0dB7LjUx",
        "colab_type": "text"
      },
      "cell_type": "markdown",
      "source": [
        "## Backpropagation\n",
        "EXPLAIN, AND SHOW Keras example of implementation\n",
        "\n"
      ]
    },
    {
      "metadata": {
        "id": "-yDSecajTyc6",
        "colab_type": "text"
      },
      "cell_type": "markdown",
      "source": [
        "## Initializers\n",
        "\n",
        "Different weights initializations may lead to different minimia reached. They are usally initialized at random, however there are several algorithms that can be used. "
      ]
    },
    {
      "metadata": {
        "id": "A6lzySByXcMB",
        "colab_type": "code",
        "colab": {}
      },
      "cell_type": "code",
      "source": [
        ""
      ],
      "execution_count": 0,
      "outputs": []
    },
    {
      "metadata": {
        "id": "1-8ittW2L1DI",
        "colab_type": "text"
      },
      "cell_type": "markdown",
      "source": [
        "## Losses\n",
        "\n",
        "### Classification\n",
        "\n",
        "For classification problems, the standard loss used is the cross-entropy loss, which is defined as:\n",
        "\n",
        "### Regression\n",
        "For regression problems, it is quite standard to use Mean Squared Error or Mean Absolute Error, depending on the problem."
      ]
    },
    {
      "metadata": {
        "id": "F-VrqhSbWJ9t",
        "colab_type": "text"
      },
      "cell_type": "markdown",
      "source": [
        "## Regularizations"
      ]
    },
    {
      "metadata": {
        "id": "NuF3Y5DoKylT",
        "colab_type": "text"
      },
      "cell_type": "markdown",
      "source": [
        "## HyperParameters Tuning\n",
        "\n",
        "There are several parameters in the training process that can be modified. One of the most important is the training rate, which controls the update step performed during the backpropagation."
      ]
    },
    {
      "metadata": {
        "id": "xm0oVnMQWLZt",
        "colab_type": "text"
      },
      "cell_type": "markdown",
      "source": [
        "## Data augmentation\n",
        "Data augmentation techniques such as rotation, color jittering, scale or cropping are usually applied in deep learning pipelines. We take an input image, apply a transformation to it, and then use it for training.\n",
        "\n",
        "Keras includes a preprocessing module, with all [these transformations](https://keras.io/preprocessing/image/) implemented. The preprocessing module can be imported by doing\n",
        "\n",
        "\n"
      ]
    },
    {
      "metadata": {
        "id": "n4glvOHvh8qy",
        "colab_type": "code",
        "colab": {}
      },
      "cell_type": "code",
      "source": [
        "from keras.preprocessing.image import ImageDataGenerator"
      ],
      "execution_count": 0,
      "outputs": []
    },
    {
      "metadata": {
        "id": "2vftBzsolQcL",
        "colab_type": "text"
      },
      "cell_type": "markdown",
      "source": [
        "Then we need to fit it to the input data, and use `flow` to apply the transformations to the input data."
      ]
    },
    {
      "metadata": {
        "id": "OoJYjjapiISI",
        "colab_type": "text"
      },
      "cell_type": "markdown",
      "source": [
        "We will now visualize some of the transformations available to use.\n",
        "\n",
        "First we plot some image without any transformation applied for comparison."
      ]
    },
    {
      "metadata": {
        "id": "MyoZHyOTheyU",
        "colab_type": "code",
        "outputId": "18d623fd-4366-429c-fdbd-6c410d06bcab",
        "colab": {
          "base_uri": "https://localhost:8080/",
          "height": 181
        }
      },
      "cell_type": "code",
      "source": [
        "for i in range(0, 3):\n",
        "\tplt.subplot(130 + 1 + i)\n",
        "\tplt.imshow(X_train[i, 0], cmap=plt.get_cmap('gray'))\n",
        "# show the plot\n",
        "plt.show()"
      ],
      "execution_count": 0,
      "outputs": [
        {
          "output_type": "display_data",
          "data": {
            "image/png": "[encoded data removed]",
            "text/plain": [
              "<matplotlib.figure.Figure at 0x7f12748a4e50>"
            ]
          },
          "metadata": {
            "tags": []
          }
        }
      ]
    },
    {
      "metadata": {
        "id": "eFXEC5EejxWG",
        "colab_type": "text"
      },
      "cell_type": "markdown",
      "source": [
        "### Rotation\n",
        "A standard transformation is to rotate the image. We can do so by initializing ImageDataGenerator with `rotation_range=rot_val`."
      ]
    },
    {
      "metadata": {
        "id": "hjgfZ1z3j46X",
        "colab_type": "code",
        "outputId": "e4b2cb3f-1466-455d-d3da-da9f57102e3b",
        "colab": {
          "base_uri": "https://localhost:8080/",
          "height": 181
        }
      },
      "cell_type": "code",
      "source": [
        "# We first define the transformation we want to apply\n",
        "augmentation_gen = ImageDataGenerator(rotation_range=90, data_format = 'channels_first')\n",
        "# We then apply the transformation\n",
        "augmentation_gen.fit(X_train)\n",
        "for X_batch, y_batch in augmentation_gen.flow(X_train, y_train, batch_size=3):\n",
        "\tfor i in range(0, 3):\n",
        "\t\tplt.subplot(130 + 1 + i)\n",
        "\t\tplt.imshow(X_batch[i, 0].reshape(28, 28), cmap=plt.get_cmap('gray'))\n",
        "\t# show the plot\n",
        "\tplt.show()\n",
        "\tbreak\n"
      ],
      "execution_count": 0,
      "outputs": [
        {
          "output_type": "display_data",
          "data": {
            "image/png": "[encoded data removed]",
            "text/plain": [
              "<matplotlib.figure.Figure at 0x7f12772a97d0>"
            ]
          },
          "metadata": {
            "tags": []
          }
        }
      ]
    },
    {
      "metadata": {
        "id": "Schj43v4ioTY",
        "colab_type": "text"
      },
      "cell_type": "markdown",
      "source": [
        "### Cropping\n",
        "\n",
        "One of the standard transformations we can apply is cropping. By cropping, we take a smaller part of the image. Some pipelines do center cropping and some other random cropping, among other variations. However, this is not implemented in Keras, so we need to use a custom transformation:"
      ]
    },
    {
      "metadata": {
        "id": "dbzq69FfjLd9",
        "colab_type": "code",
        "colab": {}
      },
      "cell_type": "code",
      "source": [
        ""
      ],
      "execution_count": 0,
      "outputs": []
    },
    {
      "metadata": {
        "id": "njqA6ve8WHB1",
        "colab_type": "text"
      },
      "cell_type": "markdown",
      "source": [
        "## Performance metrics\n",
        "\n",
        "[Available metrics in Keras](https://keras.io/metrics/)\n",
        "\n",
        "We need some way to evaluate the performance of the model. We do so by using some evaluation metric. Some of the standard evaluation metrics are mean squared error (MSE) and mean absolute error (MAE) for regression problems, or binary or categorical accuracy for classification problems."
      ]
    },
    {
      "metadata": {
        "id": "BPk96eQomRwQ",
        "colab_type": "text"
      },
      "cell_type": "markdown",
      "source": [
        "### Custom metrics\n",
        "\n",
        "There are cases where we want to use a non-standard metric for evaluating our models. To"
      ]
    },
    {
      "metadata": {
        "id": "D1hsnv_yWfD1",
        "colab_type": "text"
      },
      "cell_type": "markdown",
      "source": [
        "## Monitoring Training\n",
        "\n",
        "Tensorboard or similars?"
      ]
    }
  ]
}